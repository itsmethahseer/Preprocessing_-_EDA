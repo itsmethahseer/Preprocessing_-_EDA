{
 "cells": [
  {
   "cell_type": "code",
   "execution_count": 2,
   "id": "371937aa",
   "metadata": {},
   "outputs": [
    {
     "name": "stdout",
     "output_type": "stream",
     "text": [
      "1.5.3\n"
     ]
    }
   ],
   "source": [
    "import numpy as np\n",
    "import pandas as pd\n"
   ]
  },
  {
   "cell_type": "code",
   "execution_count": 4,
   "id": "754ef560",
   "metadata": {},
   "outputs": [
    {
     "data": {
      "text/html": [
       "<div>\n",
       "<style scoped>\n",
       "    .dataframe tbody tr th:only-of-type {\n",
       "        vertical-align: middle;\n",
       "    }\n",
       "\n",
       "    .dataframe tbody tr th {\n",
       "        vertical-align: top;\n",
       "    }\n",
       "\n",
       "    .dataframe thead th {\n",
       "        text-align: right;\n",
       "    }\n",
       "</style>\n",
       "<table border=\"1\" class=\"dataframe\">\n",
       "  <thead>\n",
       "    <tr style=\"text-align: right;\">\n",
       "      <th></th>\n",
       "      <th>City</th>\n",
       "      <th>Age</th>\n",
       "      <th>Salary</th>\n",
       "      <th>Eligible for Bonus</th>\n",
       "    </tr>\n",
       "  </thead>\n",
       "  <tbody>\n",
       "    <tr>\n",
       "      <th>0</th>\n",
       "      <td>Mumbai</td>\n",
       "      <td>27.0</td>\n",
       "      <td>51000.0</td>\n",
       "      <td>Yes</td>\n",
       "    </tr>\n",
       "    <tr>\n",
       "      <th>1</th>\n",
       "      <td>Mumbai</td>\n",
       "      <td>30.0</td>\n",
       "      <td>52000.0</td>\n",
       "      <td>No</td>\n",
       "    </tr>\n",
       "    <tr>\n",
       "      <th>2</th>\n",
       "      <td>Newyork</td>\n",
       "      <td>27.0</td>\n",
       "      <td>48000.0</td>\n",
       "      <td>Yes</td>\n",
       "    </tr>\n",
       "    <tr>\n",
       "      <th>3</th>\n",
       "      <td>Newyork</td>\n",
       "      <td>NaN</td>\n",
       "      <td>66000.0</td>\n",
       "      <td>No</td>\n",
       "    </tr>\n",
       "    <tr>\n",
       "      <th>4</th>\n",
       "      <td>Tokyo</td>\n",
       "      <td>48.0</td>\n",
       "      <td>NaN</td>\n",
       "      <td>Yes</td>\n",
       "    </tr>\n",
       "    <tr>\n",
       "      <th>5</th>\n",
       "      <td>Singapore</td>\n",
       "      <td>33.0</td>\n",
       "      <td>69000.0</td>\n",
       "      <td>No</td>\n",
       "    </tr>\n",
       "    <tr>\n",
       "      <th>6</th>\n",
       "      <td>Newyork</td>\n",
       "      <td>40.0</td>\n",
       "      <td>79000.0</td>\n",
       "      <td>Yes</td>\n",
       "    </tr>\n",
       "    <tr>\n",
       "      <th>7</th>\n",
       "      <td>Mumbai</td>\n",
       "      <td>38.0</td>\n",
       "      <td>NaN</td>\n",
       "      <td>Yes</td>\n",
       "    </tr>\n",
       "    <tr>\n",
       "      <th>8</th>\n",
       "      <td>Singapore</td>\n",
       "      <td>35.0</td>\n",
       "      <td>38000.0</td>\n",
       "      <td>No</td>\n",
       "    </tr>\n",
       "    <tr>\n",
       "      <th>9</th>\n",
       "      <td>Tokyo</td>\n",
       "      <td>NaN</td>\n",
       "      <td>56000.0</td>\n",
       "      <td>No</td>\n",
       "    </tr>\n",
       "    <tr>\n",
       "      <th>10</th>\n",
       "      <td>Singapore</td>\n",
       "      <td>35.0</td>\n",
       "      <td>72000.0</td>\n",
       "      <td>Yes</td>\n",
       "    </tr>\n",
       "    <tr>\n",
       "      <th>11</th>\n",
       "      <td>Mumbai</td>\n",
       "      <td>31.0</td>\n",
       "      <td>65000.0</td>\n",
       "      <td>Yes</td>\n",
       "    </tr>\n",
       "    <tr>\n",
       "      <th>12</th>\n",
       "      <td>Singapore</td>\n",
       "      <td>37.0</td>\n",
       "      <td>49000.0</td>\n",
       "      <td>No</td>\n",
       "    </tr>\n",
       "  </tbody>\n",
       "</table>\n",
       "</div>"
      ],
      "text/plain": [
       "         City   Age   Salary Eligible for Bonus\n",
       "0      Mumbai  27.0  51000.0                Yes\n",
       "1      Mumbai  30.0  52000.0                 No\n",
       "2     Newyork  27.0  48000.0                Yes\n",
       "3     Newyork   NaN  66000.0                 No\n",
       "4       Tokyo  48.0      NaN                Yes\n",
       "5   Singapore  33.0  69000.0                 No\n",
       "6     Newyork  40.0  79000.0                Yes\n",
       "7      Mumbai  38.0      NaN                Yes\n",
       "8   Singapore  35.0  38000.0                 No\n",
       "9       Tokyo   NaN  56000.0                 No\n",
       "10  Singapore  35.0  72000.0                Yes\n",
       "11     Mumbai  31.0  65000.0                Yes\n",
       "12  Singapore  37.0  49000.0                 No"
      ]
     },
     "execution_count": 4,
     "metadata": {},
     "output_type": "execute_result"
    }
   ],
   "source": [
    "data=pd.read_csv(\"files/New_set.csv\")\n",
    "data"
   ]
  },
  {
   "cell_type": "code",
   "execution_count": 5,
   "id": "d149a56a",
   "metadata": {},
   "outputs": [
    {
     "data": {
      "text/plain": [
       "Index(['City', 'Age', 'Salary', 'Eligible for Bonus'], dtype='object')"
      ]
     },
     "execution_count": 5,
     "metadata": {},
     "output_type": "execute_result"
    }
   ],
   "source": [
    "data.columns"
   ]
  },
  {
   "cell_type": "code",
   "execution_count": 6,
   "id": "3c7995db",
   "metadata": {},
   "outputs": [
    {
     "data": {
      "text/html": [
       "<div>\n",
       "<style scoped>\n",
       "    .dataframe tbody tr th:only-of-type {\n",
       "        vertical-align: middle;\n",
       "    }\n",
       "\n",
       "    .dataframe tbody tr th {\n",
       "        vertical-align: top;\n",
       "    }\n",
       "\n",
       "    .dataframe thead th {\n",
       "        text-align: right;\n",
       "    }\n",
       "</style>\n",
       "<table border=\"1\" class=\"dataframe\">\n",
       "  <thead>\n",
       "    <tr style=\"text-align: right;\">\n",
       "      <th></th>\n",
       "      <th>Age</th>\n",
       "      <th>Salary</th>\n",
       "    </tr>\n",
       "  </thead>\n",
       "  <tbody>\n",
       "    <tr>\n",
       "      <th>count</th>\n",
       "      <td>11.000000</td>\n",
       "      <td>11.000000</td>\n",
       "    </tr>\n",
       "    <tr>\n",
       "      <th>mean</th>\n",
       "      <td>34.636364</td>\n",
       "      <td>58636.363636</td>\n",
       "    </tr>\n",
       "    <tr>\n",
       "      <th>std</th>\n",
       "      <td>6.152605</td>\n",
       "      <td>12395.747071</td>\n",
       "    </tr>\n",
       "    <tr>\n",
       "      <th>min</th>\n",
       "      <td>27.000000</td>\n",
       "      <td>38000.000000</td>\n",
       "    </tr>\n",
       "    <tr>\n",
       "      <th>25%</th>\n",
       "      <td>30.500000</td>\n",
       "      <td>50000.000000</td>\n",
       "    </tr>\n",
       "    <tr>\n",
       "      <th>50%</th>\n",
       "      <td>35.000000</td>\n",
       "      <td>56000.000000</td>\n",
       "    </tr>\n",
       "    <tr>\n",
       "      <th>75%</th>\n",
       "      <td>37.500000</td>\n",
       "      <td>67500.000000</td>\n",
       "    </tr>\n",
       "    <tr>\n",
       "      <th>max</th>\n",
       "      <td>48.000000</td>\n",
       "      <td>79000.000000</td>\n",
       "    </tr>\n",
       "  </tbody>\n",
       "</table>\n",
       "</div>"
      ],
      "text/plain": [
       "             Age        Salary\n",
       "count  11.000000     11.000000\n",
       "mean   34.636364  58636.363636\n",
       "std     6.152605  12395.747071\n",
       "min    27.000000  38000.000000\n",
       "25%    30.500000  50000.000000\n",
       "50%    35.000000  56000.000000\n",
       "75%    37.500000  67500.000000\n",
       "max    48.000000  79000.000000"
      ]
     },
     "execution_count": 6,
     "metadata": {},
     "output_type": "execute_result"
    }
   ],
   "source": [
    "data.describe()"
   ]
  },
  {
   "cell_type": "markdown",
   "id": "937840d7",
   "metadata": {},
   "source": [
    "# creating the independent and dependent variable vectors."
   ]
  },
  {
   "cell_type": "code",
   "execution_count": 9,
   "id": "27c027bf",
   "metadata": {},
   "outputs": [
    {
     "data": {
      "text/plain": [
       "array([['Mumbai', 27.0, 51000.0],\n",
       "       ['Mumbai', 30.0, 52000.0],\n",
       "       ['Newyork', 27.0, 48000.0],\n",
       "       ['Newyork', nan, 66000.0],\n",
       "       ['Tokyo', 48.0, nan],\n",
       "       ['Singapore', 33.0, 69000.0],\n",
       "       ['Newyork', 40.0, 79000.0],\n",
       "       ['Mumbai', 38.0, nan],\n",
       "       ['Singapore', 35.0, 38000.0],\n",
       "       ['Tokyo', nan, 56000.0],\n",
       "       ['Singapore', 35.0, 72000.0],\n",
       "       ['Mumbai', 31.0, 65000.0],\n",
       "       ['Singapore', 37.0, 49000.0]], dtype=object)"
      ]
     },
     "execution_count": 9,
     "metadata": {},
     "output_type": "execute_result"
    }
   ],
   "source": [
    "# create dependent and independent variable vectors,\n",
    "x=data.iloc[:,:-1].values\n",
    "x\n",
    "# These are all the independent variable vectors from the dataframe."
   ]
  },
  {
   "cell_type": "code",
   "execution_count": 33,
   "id": "299ce70b",
   "metadata": {},
   "outputs": [
    {
     "data": {
      "text/plain": [
       "array(['Yes', 'No', 'Yes', 'No', 'Yes', 'No', 'Yes', 'Yes', 'No', 'No',\n",
       "       'Yes', 'Yes', 'No'], dtype=object)"
      ]
     },
     "execution_count": 33,
     "metadata": {},
     "output_type": "execute_result"
    }
   ],
   "source": [
    "y=data.iloc[:,-1].values\n",
    "y\n",
    "# here i get the dependent variable vector from the dataframe.which is a last series from the datafram."
   ]
  },
  {
   "cell_type": "markdown",
   "id": "7aa8acd0",
   "metadata": {},
   "source": [
    "# Handling the missing values. Data preprocessing"
   ]
  },
  {
   "cell_type": "code",
   "execution_count": 13,
   "id": "3ecc16de",
   "metadata": {},
   "outputs": [
    {
     "data": {
      "text/html": [
       "<div>\n",
       "<style scoped>\n",
       "    .dataframe tbody tr th:only-of-type {\n",
       "        vertical-align: middle;\n",
       "    }\n",
       "\n",
       "    .dataframe tbody tr th {\n",
       "        vertical-align: top;\n",
       "    }\n",
       "\n",
       "    .dataframe thead th {\n",
       "        text-align: right;\n",
       "    }\n",
       "</style>\n",
       "<table border=\"1\" class=\"dataframe\">\n",
       "  <thead>\n",
       "    <tr style=\"text-align: right;\">\n",
       "      <th></th>\n",
       "      <th>City</th>\n",
       "      <th>Age</th>\n",
       "      <th>Salary</th>\n",
       "      <th>Eligible for Bonus</th>\n",
       "    </tr>\n",
       "  </thead>\n",
       "  <tbody>\n",
       "    <tr>\n",
       "      <th>0</th>\n",
       "      <td>Mumbai</td>\n",
       "      <td>27.0</td>\n",
       "      <td>51000.0</td>\n",
       "      <td>Yes</td>\n",
       "    </tr>\n",
       "    <tr>\n",
       "      <th>1</th>\n",
       "      <td>Mumbai</td>\n",
       "      <td>30.0</td>\n",
       "      <td>52000.0</td>\n",
       "      <td>No</td>\n",
       "    </tr>\n",
       "    <tr>\n",
       "      <th>2</th>\n",
       "      <td>Newyork</td>\n",
       "      <td>27.0</td>\n",
       "      <td>48000.0</td>\n",
       "      <td>Yes</td>\n",
       "    </tr>\n",
       "    <tr>\n",
       "      <th>3</th>\n",
       "      <td>Newyork</td>\n",
       "      <td>NaN</td>\n",
       "      <td>66000.0</td>\n",
       "      <td>No</td>\n",
       "    </tr>\n",
       "    <tr>\n",
       "      <th>4</th>\n",
       "      <td>Tokyo</td>\n",
       "      <td>48.0</td>\n",
       "      <td>NaN</td>\n",
       "      <td>Yes</td>\n",
       "    </tr>\n",
       "    <tr>\n",
       "      <th>5</th>\n",
       "      <td>Singapore</td>\n",
       "      <td>33.0</td>\n",
       "      <td>69000.0</td>\n",
       "      <td>No</td>\n",
       "    </tr>\n",
       "    <tr>\n",
       "      <th>6</th>\n",
       "      <td>Newyork</td>\n",
       "      <td>40.0</td>\n",
       "      <td>79000.0</td>\n",
       "      <td>Yes</td>\n",
       "    </tr>\n",
       "    <tr>\n",
       "      <th>7</th>\n",
       "      <td>Mumbai</td>\n",
       "      <td>38.0</td>\n",
       "      <td>NaN</td>\n",
       "      <td>Yes</td>\n",
       "    </tr>\n",
       "    <tr>\n",
       "      <th>8</th>\n",
       "      <td>Singapore</td>\n",
       "      <td>35.0</td>\n",
       "      <td>38000.0</td>\n",
       "      <td>No</td>\n",
       "    </tr>\n",
       "    <tr>\n",
       "      <th>9</th>\n",
       "      <td>Tokyo</td>\n",
       "      <td>NaN</td>\n",
       "      <td>56000.0</td>\n",
       "      <td>No</td>\n",
       "    </tr>\n",
       "    <tr>\n",
       "      <th>10</th>\n",
       "      <td>Singapore</td>\n",
       "      <td>35.0</td>\n",
       "      <td>72000.0</td>\n",
       "      <td>Yes</td>\n",
       "    </tr>\n",
       "    <tr>\n",
       "      <th>11</th>\n",
       "      <td>Mumbai</td>\n",
       "      <td>31.0</td>\n",
       "      <td>65000.0</td>\n",
       "      <td>Yes</td>\n",
       "    </tr>\n",
       "    <tr>\n",
       "      <th>12</th>\n",
       "      <td>Singapore</td>\n",
       "      <td>37.0</td>\n",
       "      <td>49000.0</td>\n",
       "      <td>No</td>\n",
       "    </tr>\n",
       "  </tbody>\n",
       "</table>\n",
       "</div>"
      ],
      "text/plain": [
       "         City   Age   Salary Eligible for Bonus\n",
       "0      Mumbai  27.0  51000.0                Yes\n",
       "1      Mumbai  30.0  52000.0                 No\n",
       "2     Newyork  27.0  48000.0                Yes\n",
       "3     Newyork   NaN  66000.0                 No\n",
       "4       Tokyo  48.0      NaN                Yes\n",
       "5   Singapore  33.0  69000.0                 No\n",
       "6     Newyork  40.0  79000.0                Yes\n",
       "7      Mumbai  38.0      NaN                Yes\n",
       "8   Singapore  35.0  38000.0                 No\n",
       "9       Tokyo   NaN  56000.0                 No\n",
       "10  Singapore  35.0  72000.0                Yes\n",
       "11     Mumbai  31.0  65000.0                Yes\n",
       "12  Singapore  37.0  49000.0                 No"
      ]
     },
     "execution_count": 13,
     "metadata": {},
     "output_type": "execute_result"
    }
   ],
   "source": [
    "data"
   ]
  },
  {
   "cell_type": "code",
   "execution_count": 14,
   "id": "8ea75879",
   "metadata": {},
   "outputs": [
    {
     "name": "stdout",
     "output_type": "stream",
     "text": [
      "City                  0\n",
      "Age                   2\n",
      "Salary                2\n",
      "Eligible for Bonus    0\n",
      "dtype: int64\n"
     ]
    }
   ],
   "source": [
    "# to calclulate the count for missing values in the dataframe\n",
    "print(data.isnull().sum())"
   ]
  },
  {
   "cell_type": "code",
   "execution_count": 15,
   "id": "26b61a4a",
   "metadata": {},
   "outputs": [],
   "source": [
    "# to drop the missing values.\n",
    "data.dropna(inplace=True)"
   ]
  },
  {
   "cell_type": "code",
   "execution_count": 16,
   "id": "f765e74d",
   "metadata": {},
   "outputs": [
    {
     "data": {
      "text/html": [
       "<div>\n",
       "<style scoped>\n",
       "    .dataframe tbody tr th:only-of-type {\n",
       "        vertical-align: middle;\n",
       "    }\n",
       "\n",
       "    .dataframe tbody tr th {\n",
       "        vertical-align: top;\n",
       "    }\n",
       "\n",
       "    .dataframe thead th {\n",
       "        text-align: right;\n",
       "    }\n",
       "</style>\n",
       "<table border=\"1\" class=\"dataframe\">\n",
       "  <thead>\n",
       "    <tr style=\"text-align: right;\">\n",
       "      <th></th>\n",
       "      <th>City</th>\n",
       "      <th>Age</th>\n",
       "      <th>Salary</th>\n",
       "      <th>Eligible for Bonus</th>\n",
       "    </tr>\n",
       "  </thead>\n",
       "  <tbody>\n",
       "    <tr>\n",
       "      <th>0</th>\n",
       "      <td>Mumbai</td>\n",
       "      <td>27.0</td>\n",
       "      <td>51000.0</td>\n",
       "      <td>Yes</td>\n",
       "    </tr>\n",
       "    <tr>\n",
       "      <th>1</th>\n",
       "      <td>Mumbai</td>\n",
       "      <td>30.0</td>\n",
       "      <td>52000.0</td>\n",
       "      <td>No</td>\n",
       "    </tr>\n",
       "    <tr>\n",
       "      <th>2</th>\n",
       "      <td>Newyork</td>\n",
       "      <td>27.0</td>\n",
       "      <td>48000.0</td>\n",
       "      <td>Yes</td>\n",
       "    </tr>\n",
       "    <tr>\n",
       "      <th>5</th>\n",
       "      <td>Singapore</td>\n",
       "      <td>33.0</td>\n",
       "      <td>69000.0</td>\n",
       "      <td>No</td>\n",
       "    </tr>\n",
       "    <tr>\n",
       "      <th>6</th>\n",
       "      <td>Newyork</td>\n",
       "      <td>40.0</td>\n",
       "      <td>79000.0</td>\n",
       "      <td>Yes</td>\n",
       "    </tr>\n",
       "    <tr>\n",
       "      <th>8</th>\n",
       "      <td>Singapore</td>\n",
       "      <td>35.0</td>\n",
       "      <td>38000.0</td>\n",
       "      <td>No</td>\n",
       "    </tr>\n",
       "    <tr>\n",
       "      <th>10</th>\n",
       "      <td>Singapore</td>\n",
       "      <td>35.0</td>\n",
       "      <td>72000.0</td>\n",
       "      <td>Yes</td>\n",
       "    </tr>\n",
       "    <tr>\n",
       "      <th>11</th>\n",
       "      <td>Mumbai</td>\n",
       "      <td>31.0</td>\n",
       "      <td>65000.0</td>\n",
       "      <td>Yes</td>\n",
       "    </tr>\n",
       "    <tr>\n",
       "      <th>12</th>\n",
       "      <td>Singapore</td>\n",
       "      <td>37.0</td>\n",
       "      <td>49000.0</td>\n",
       "      <td>No</td>\n",
       "    </tr>\n",
       "  </tbody>\n",
       "</table>\n",
       "</div>"
      ],
      "text/plain": [
       "         City   Age   Salary Eligible for Bonus\n",
       "0      Mumbai  27.0  51000.0                Yes\n",
       "1      Mumbai  30.0  52000.0                 No\n",
       "2     Newyork  27.0  48000.0                Yes\n",
       "5   Singapore  33.0  69000.0                 No\n",
       "6     Newyork  40.0  79000.0                Yes\n",
       "8   Singapore  35.0  38000.0                 No\n",
       "10  Singapore  35.0  72000.0                Yes\n",
       "11     Mumbai  31.0  65000.0                Yes\n",
       "12  Singapore  37.0  49000.0                 No"
      ]
     },
     "execution_count": 16,
     "metadata": {},
     "output_type": "execute_result"
    }
   ],
   "source": [
    "data"
   ]
  },
  {
   "cell_type": "code",
   "execution_count": 20,
   "id": "19e0c411",
   "metadata": {},
   "outputs": [
    {
     "data": {
      "text/html": [
       "<div>\n",
       "<style scoped>\n",
       "    .dataframe tbody tr th:only-of-type {\n",
       "        vertical-align: middle;\n",
       "    }\n",
       "\n",
       "    .dataframe tbody tr th {\n",
       "        vertical-align: top;\n",
       "    }\n",
       "\n",
       "    .dataframe thead th {\n",
       "        text-align: right;\n",
       "    }\n",
       "</style>\n",
       "<table border=\"1\" class=\"dataframe\">\n",
       "  <thead>\n",
       "    <tr style=\"text-align: right;\">\n",
       "      <th></th>\n",
       "      <th>City</th>\n",
       "      <th>Age</th>\n",
       "      <th>Salary</th>\n",
       "      <th>Eligible for Bonus</th>\n",
       "    </tr>\n",
       "  </thead>\n",
       "  <tbody>\n",
       "    <tr>\n",
       "      <th>0</th>\n",
       "      <td>Mumbai</td>\n",
       "      <td>27.0</td>\n",
       "      <td>51000.0</td>\n",
       "      <td>Yes</td>\n",
       "    </tr>\n",
       "    <tr>\n",
       "      <th>1</th>\n",
       "      <td>Mumbai</td>\n",
       "      <td>30.0</td>\n",
       "      <td>52000.0</td>\n",
       "      <td>No</td>\n",
       "    </tr>\n",
       "    <tr>\n",
       "      <th>2</th>\n",
       "      <td>Newyork</td>\n",
       "      <td>27.0</td>\n",
       "      <td>48000.0</td>\n",
       "      <td>Yes</td>\n",
       "    </tr>\n",
       "    <tr>\n",
       "      <th>3</th>\n",
       "      <td>Newyork</td>\n",
       "      <td>NaN</td>\n",
       "      <td>66000.0</td>\n",
       "      <td>No</td>\n",
       "    </tr>\n",
       "    <tr>\n",
       "      <th>4</th>\n",
       "      <td>Tokyo</td>\n",
       "      <td>48.0</td>\n",
       "      <td>NaN</td>\n",
       "      <td>Yes</td>\n",
       "    </tr>\n",
       "    <tr>\n",
       "      <th>5</th>\n",
       "      <td>Singapore</td>\n",
       "      <td>33.0</td>\n",
       "      <td>69000.0</td>\n",
       "      <td>No</td>\n",
       "    </tr>\n",
       "    <tr>\n",
       "      <th>6</th>\n",
       "      <td>Newyork</td>\n",
       "      <td>40.0</td>\n",
       "      <td>79000.0</td>\n",
       "      <td>Yes</td>\n",
       "    </tr>\n",
       "    <tr>\n",
       "      <th>7</th>\n",
       "      <td>Mumbai</td>\n",
       "      <td>38.0</td>\n",
       "      <td>NaN</td>\n",
       "      <td>Yes</td>\n",
       "    </tr>\n",
       "    <tr>\n",
       "      <th>8</th>\n",
       "      <td>Singapore</td>\n",
       "      <td>35.0</td>\n",
       "      <td>38000.0</td>\n",
       "      <td>No</td>\n",
       "    </tr>\n",
       "    <tr>\n",
       "      <th>9</th>\n",
       "      <td>Tokyo</td>\n",
       "      <td>NaN</td>\n",
       "      <td>56000.0</td>\n",
       "      <td>No</td>\n",
       "    </tr>\n",
       "    <tr>\n",
       "      <th>10</th>\n",
       "      <td>Singapore</td>\n",
       "      <td>35.0</td>\n",
       "      <td>72000.0</td>\n",
       "      <td>Yes</td>\n",
       "    </tr>\n",
       "    <tr>\n",
       "      <th>11</th>\n",
       "      <td>Mumbai</td>\n",
       "      <td>31.0</td>\n",
       "      <td>65000.0</td>\n",
       "      <td>Yes</td>\n",
       "    </tr>\n",
       "    <tr>\n",
       "      <th>12</th>\n",
       "      <td>Singapore</td>\n",
       "      <td>37.0</td>\n",
       "      <td>49000.0</td>\n",
       "      <td>No</td>\n",
       "    </tr>\n",
       "  </tbody>\n",
       "</table>\n",
       "</div>"
      ],
      "text/plain": [
       "         City   Age   Salary Eligible for Bonus\n",
       "0      Mumbai  27.0  51000.0                Yes\n",
       "1      Mumbai  30.0  52000.0                 No\n",
       "2     Newyork  27.0  48000.0                Yes\n",
       "3     Newyork   NaN  66000.0                 No\n",
       "4       Tokyo  48.0      NaN                Yes\n",
       "5   Singapore  33.0  69000.0                 No\n",
       "6     Newyork  40.0  79000.0                Yes\n",
       "7      Mumbai  38.0      NaN                Yes\n",
       "8   Singapore  35.0  38000.0                 No\n",
       "9       Tokyo   NaN  56000.0                 No\n",
       "10  Singapore  35.0  72000.0                Yes\n",
       "11     Mumbai  31.0  65000.0                Yes\n",
       "12  Singapore  37.0  49000.0                 No"
      ]
     },
     "execution_count": 20,
     "metadata": {},
     "output_type": "execute_result"
    }
   ],
   "source": [
    "data=pd.read_csv(\"files/New_set.csv\")\n",
    "data"
   ]
  },
  {
   "cell_type": "code",
   "execution_count": 23,
   "id": "a3c0be14",
   "metadata": {},
   "outputs": [
    {
     "data": {
      "text/plain": [
       "array([[27.0, 51000.0],\n",
       "       [30.0, 52000.0],\n",
       "       [27.0, 48000.0],\n",
       "       [34.63636363636363, 66000.0],\n",
       "       [48.0, 58636.36363636364],\n",
       "       [33.0, 69000.0],\n",
       "       [40.0, 79000.0],\n",
       "       [38.0, 58636.36363636364],\n",
       "       [35.0, 38000.0],\n",
       "       [34.63636363636363, 56000.0],\n",
       "       [35.0, 72000.0],\n",
       "       [31.0, 65000.0],\n",
       "       [37.0, 49000.0]], dtype=object)"
      ]
     },
     "execution_count": 23,
     "metadata": {},
     "output_type": "execute_result"
    }
   ],
   "source": [
    "# use the replace concept for missing values\n",
    "from sklearn.impute import SimpleImputer\n",
    "impute=SimpleImputer(missing_values=np.nan,strategy='mean') # here i created a object for simpleimputer class\n",
    "impute.fit(x[:,1:3]) # since our 2nd and 3rd column contain the missing values.\n",
    "x[:,1:3]=impute.transform(x[:,1:3])\n",
    "x[:,1:3]\n",
    "\n",
    "# here we can see that the missing values are filled with mean of their respective column."
   ]
  },
  {
   "cell_type": "markdown",
   "id": "25fc0468",
   "metadata": {},
   "source": [
    "# Encoding in preprocessing\n"
   ]
  },
  {
   "cell_type": "markdown",
   "id": "9e50f88e",
   "metadata": {},
   "source": [
    "### One Hot Encoding"
   ]
  },
  {
   "cell_type": "code",
   "execution_count": 29,
   "id": "c0a7d5a3",
   "metadata": {},
   "outputs": [
    {
     "name": "stdout",
     "output_type": "stream",
     "text": [
      "[[1.0 0.0 0.0 0.0 27.0 51000.0]\n",
      " [1.0 0.0 0.0 0.0 30.0 52000.0]\n",
      " [0.0 1.0 0.0 0.0 27.0 48000.0]\n",
      " [0.0 1.0 0.0 0.0 34.63636363636363 66000.0]\n",
      " [0.0 0.0 0.0 1.0 48.0 58636.36363636364]\n",
      " [0.0 0.0 1.0 0.0 33.0 69000.0]\n",
      " [0.0 1.0 0.0 0.0 40.0 79000.0]\n",
      " [1.0 0.0 0.0 0.0 38.0 58636.36363636364]\n",
      " [0.0 0.0 1.0 0.0 35.0 38000.0]\n",
      " [0.0 0.0 0.0 1.0 34.63636363636363 56000.0]\n",
      " [0.0 0.0 1.0 0.0 35.0 72000.0]\n",
      " [1.0 0.0 0.0 0.0 31.0 65000.0]\n",
      " [0.0 0.0 1.0 0.0 37.0 49000.0]]\n"
     ]
    }
   ],
   "source": [
    "# In my dataframe, the first column contains string values , for a better preprocessing we convert that into binary format.\n",
    "from sklearn.compose import ColumnTransformer\n",
    "from sklearn.preprocessing import OneHotEncoder\n",
    "ct=ColumnTransformer(transformers=[('encoder',OneHotEncoder(),[0])],remainder='passthrough')\n",
    "x1=np.array(ct.fit_transform(x))\n",
    "print(x1)"
   ]
  },
  {
   "cell_type": "markdown",
   "id": "7de99b06",
   "metadata": {},
   "source": [
    "In the above code remainder='passthrough' gives the other columns remains unchanged. if i pass the remainder='drop' the other \n",
    "columns are deleted. Here i only pass [0] , which means i want to transform the first column only,which is only in string format.Here i used the OneHotEncoder class.\n",
    "The above output i can see that they give different binary values into four places in our dataframe and kept the other columns unchanged."
   ]
  },
  {
   "cell_type": "markdown",
   "id": "4df66f26",
   "metadata": {},
   "source": [
    "# Label Encoding"
   ]
  },
  {
   "cell_type": "code",
   "execution_count": 35,
   "id": "ece0f819",
   "metadata": {},
   "outputs": [
    {
     "name": "stdout",
     "output_type": "stream",
     "text": [
      "[1 0 1 0 1 0 1 1 0 0 1 1 0]\n"
     ]
    }
   ],
   "source": [
    "# next we learn about label encoding.\n",
    "from sklearn.preprocessing import LabelEncoder\n",
    "le=LabelEncoder()\n",
    "y=le.fit_transform(y)\n",
    "print(y)"
   ]
  },
  {
   "cell_type": "markdown",
   "id": "1d38ab57",
   "metadata": {},
   "source": [
    "Now you can see that above , the 'yes' and 'No' are changes into 1 and 0.\n"
   ]
  },
  {
   "cell_type": "markdown",
   "id": "2bc6748c",
   "metadata": {},
   "source": [
    "# Convert Dataset into Test and Train data"
   ]
  },
  {
   "cell_type": "code",
   "execution_count": 38,
   "id": "b271bba4",
   "metadata": {},
   "outputs": [
    {
     "name": "stdout",
     "output_type": "stream",
     "text": [
      "[[1.0 0.0 0.0 0.0 30.0 52000.0]\n",
      " [0.0 1.0 0.0 0.0 40.0 79000.0]\n",
      " [1.0 0.0 0.0 0.0 27.0 51000.0]\n",
      " [1.0 0.0 0.0 0.0 38.0 58636.36363636364]\n",
      " [0.0 0.0 1.0 0.0 37.0 49000.0]\n",
      " [0.0 0.0 0.0 1.0 34.63636363636363 56000.0]\n",
      " [0.0 0.0 1.0 0.0 35.0 38000.0]\n",
      " [1.0 0.0 0.0 0.0 31.0 65000.0]\n",
      " [0.0 0.0 1.0 0.0 33.0 69000.0]]\n",
      "[[0.0 1.0 0.0 0.0 27.0 48000.0]\n",
      " [0.0 1.0 0.0 0.0 34.63636363636363 66000.0]\n",
      " [0.0 0.0 0.0 1.0 48.0 58636.36363636364]\n",
      " [0.0 0.0 1.0 0.0 35.0 72000.0]]\n",
      "[0 1 1 1 0 0 0 1 0]\n",
      "[1 0 1 1]\n"
     ]
    }
   ],
   "source": [
    "from sklearn.model_selection import train_test_split\n",
    "x_train,x_test,y_train,y_test=train_test_split(x1,y,test_size=0.25,random_state=1)\n",
    "print(x_train)\n",
    "print(x_test)\n",
    "print(y_train)\n",
    "print(y_test)"
   ]
  },
  {
   "cell_type": "markdown",
   "id": "e096528a",
   "metadata": {},
   "source": [
    "Here the test_size=0.25 means that the 25% of the dataset becomes test set and remaining 75% of datas are train set.\n",
    "Here we use random_state , for selecting datas in randomlly.\n",
    "Here x_train x_test are independent values from our dataframe and y_train y_test are dependent values."
   ]
  },
  {
   "cell_type": "markdown",
   "id": "9ccd8fdc",
   "metadata": {},
   "source": [
    "# Feature scaling-Normalization and Standardization"
   ]
  },
  {
   "cell_type": "code",
   "execution_count": 39,
   "id": "46e72bd2",
   "metadata": {},
   "outputs": [
    {
     "name": "stdout",
     "output_type": "stream",
     "text": [
      "[[1.0 0.0 0.0 0.0 30.0 52000.0]\n",
      " [0.0 1.0 0.0 0.0 40.0 79000.0]\n",
      " [1.0 0.0 0.0 0.0 27.0 51000.0]\n",
      " [1.0 0.0 0.0 0.0 38.0 58636.36363636364]\n",
      " [0.0 0.0 1.0 0.0 37.0 49000.0]\n",
      " [0.0 0.0 0.0 1.0 34.63636363636363 56000.0]\n",
      " [0.0 0.0 1.0 0.0 35.0 38000.0]\n",
      " [1.0 0.0 0.0 0.0 31.0 65000.0]\n",
      " [0.0 0.0 1.0 0.0 33.0 69000.0]]\n"
     ]
    }
   ],
   "source": [
    "print(x_train)"
   ]
  },
  {
   "cell_type": "markdown",
   "id": "06909478",
   "metadata": {},
   "source": [
    "here we can see that the scale of 4th column in between 30 to 50 . And the scale of the 5 th column is between thousands.\n",
    "We want to convert all the values in the same scale, that's why model learns fastly when compared to the unscaled data.\n",
    "This process is called Feature scaling.\n",
    "For Feature scaling we have two methods first one is Standradization and second one is Normalizaiton."
   ]
  },
  {
   "cell_type": "code",
   "execution_count": 49,
   "id": "bb1bdfc0",
   "metadata": {},
   "outputs": [
    {
     "name": "stdout",
     "output_type": "stream",
     "text": [
      "[[1.0 0.0 0.0 0.0 -1.0134309057872253 -0.48180192610203115]\n",
      " [0.0 1.0 0.0 0.0 1.545999187910104 1.8769097011337363]\n",
      " [1.0 0.0 0.0 0.0 -1.7812599338964241 -0.5691616159996521]\n",
      " [1.0 0.0 0.0 0.0 1.0341131691706382 0.09794874321854496]\n",
      " [0.0 0.0 1.0 0.0 0.7781701598009053 -0.7438809957948942]\n",
      " [0.0 0.0 0.0 1.0 0.1732139558360812 -0.13236316651154711]\n",
      " [0.0 0.0 1.0 0.0 0.2662841410614394 -1.7048375846687251]\n",
      " [1.0 0.0 0.0 0.0 -0.7574878964174924 0.6538740425670421]\n",
      " [0.0 0.0 1.0 0.0 -0.24560187767802644 1.0033128021575264]]\n",
      "\n",
      "\n",
      "[[0.0 1.0 0.0 0.0 -1.213794856790145 -1.4701162060918802]\n",
      " [0.0 1.0 0.0 0.0 -0.20179715981374655 0.5408199514638522]\n",
      " [0.0 0.0 0.0 1.0 1.569198809894952 -0.2818357493544016]\n",
      " [0.0 0.0 1.0 0.0 -0.15360679329106044 1.2111320039824296]]\n"
     ]
    }
   ],
   "source": [
    "# if i want to change the scales for 4th and 5th columns.\n",
    "from sklearn.preprocessing import StandardScaler\n",
    "scaler=StandardScaler()\n",
    "x_train[:,4:]=scaler.fit_transform(x_train[:,4:])\n",
    "x_test[:,4:]=scaler.fit_transform(x_test[:,4:])\n",
    "print(x_train)\n",
    "print(\"\\n\")\n",
    "print(x_test)\n"
   ]
  },
  {
   "cell_type": "markdown",
   "id": "3078e971",
   "metadata": {},
   "source": [
    "Now all the columns scales becomes same range."
   ]
  },
  {
   "cell_type": "markdown",
   "id": "164915c2",
   "metadata": {},
   "source": [
    "# Finding the outliers in the dataset"
   ]
  },
  {
   "cell_type": "code",
   "execution_count": 68,
   "id": "6c93bfd3",
   "metadata": {},
   "outputs": [
    {
     "data": {
      "text/html": [
       "<div>\n",
       "<style scoped>\n",
       "    .dataframe tbody tr th:only-of-type {\n",
       "        vertical-align: middle;\n",
       "    }\n",
       "\n",
       "    .dataframe tbody tr th {\n",
       "        vertical-align: top;\n",
       "    }\n",
       "\n",
       "    .dataframe thead th {\n",
       "        text-align: right;\n",
       "    }\n",
       "</style>\n",
       "<table border=\"1\" class=\"dataframe\">\n",
       "  <thead>\n",
       "    <tr style=\"text-align: right;\">\n",
       "      <th></th>\n",
       "      <th>City</th>\n",
       "      <th>Age</th>\n",
       "      <th>Salary</th>\n",
       "      <th>Eligible for Bonus</th>\n",
       "    </tr>\n",
       "  </thead>\n",
       "  <tbody>\n",
       "    <tr>\n",
       "      <th>0</th>\n",
       "      <td>Mumbai</td>\n",
       "      <td>27</td>\n",
       "      <td>51000</td>\n",
       "      <td>Yes</td>\n",
       "    </tr>\n",
       "    <tr>\n",
       "      <th>1</th>\n",
       "      <td>Mumbai</td>\n",
       "      <td>30</td>\n",
       "      <td>52000</td>\n",
       "      <td>No</td>\n",
       "    </tr>\n",
       "    <tr>\n",
       "      <th>2</th>\n",
       "      <td>Newyork</td>\n",
       "      <td>20</td>\n",
       "      <td>48000</td>\n",
       "      <td>Yes</td>\n",
       "    </tr>\n",
       "    <tr>\n",
       "      <th>3</th>\n",
       "      <td>Newyork</td>\n",
       "      <td>29</td>\n",
       "      <td>66000</td>\n",
       "      <td>No</td>\n",
       "    </tr>\n",
       "    <tr>\n",
       "      <th>4</th>\n",
       "      <td>Tokyo</td>\n",
       "      <td>48</td>\n",
       "      <td>60000</td>\n",
       "      <td>Yes</td>\n",
       "    </tr>\n",
       "    <tr>\n",
       "      <th>5</th>\n",
       "      <td>Singapore</td>\n",
       "      <td>33</td>\n",
       "      <td>69000</td>\n",
       "      <td>No</td>\n",
       "    </tr>\n",
       "    <tr>\n",
       "      <th>6</th>\n",
       "      <td>Newyork</td>\n",
       "      <td>40</td>\n",
       "      <td>79000</td>\n",
       "      <td>Yes</td>\n",
       "    </tr>\n",
       "    <tr>\n",
       "      <th>7</th>\n",
       "      <td>Mumbai</td>\n",
       "      <td>38</td>\n",
       "      <td>80000</td>\n",
       "      <td>Yes</td>\n",
       "    </tr>\n",
       "    <tr>\n",
       "      <th>8</th>\n",
       "      <td>Singapore</td>\n",
       "      <td>35</td>\n",
       "      <td>38000</td>\n",
       "      <td>No</td>\n",
       "    </tr>\n",
       "    <tr>\n",
       "      <th>9</th>\n",
       "      <td>Tokyo</td>\n",
       "      <td>34</td>\n",
       "      <td>56000</td>\n",
       "      <td>No</td>\n",
       "    </tr>\n",
       "    <tr>\n",
       "      <th>10</th>\n",
       "      <td>Singapore</td>\n",
       "      <td>35</td>\n",
       "      <td>72000</td>\n",
       "      <td>Yes</td>\n",
       "    </tr>\n",
       "    <tr>\n",
       "      <th>11</th>\n",
       "      <td>Mumbai</td>\n",
       "      <td>31</td>\n",
       "      <td>65000</td>\n",
       "      <td>Yes</td>\n",
       "    </tr>\n",
       "    <tr>\n",
       "      <th>12</th>\n",
       "      <td>Singapore</td>\n",
       "      <td>37</td>\n",
       "      <td>49000</td>\n",
       "      <td>No</td>\n",
       "    </tr>\n",
       "  </tbody>\n",
       "</table>\n",
       "</div>"
      ],
      "text/plain": [
       "         City  Age  Salary Eligible for Bonus\n",
       "0      Mumbai   27   51000                Yes\n",
       "1      Mumbai   30   52000                 No\n",
       "2     Newyork   20   48000                Yes\n",
       "3     Newyork   29   66000                 No\n",
       "4       Tokyo   48   60000                Yes\n",
       "5   Singapore   33   69000                 No\n",
       "6     Newyork   40   79000                Yes\n",
       "7      Mumbai   38   80000                Yes\n",
       "8   Singapore   35   38000                 No\n",
       "9       Tokyo   34   56000                 No\n",
       "10  Singapore   35   72000                Yes\n",
       "11     Mumbai   31   65000                Yes\n",
       "12  Singapore   37   49000                 No"
      ]
     },
     "execution_count": 68,
     "metadata": {},
     "output_type": "execute_result"
    }
   ],
   "source": [
    "dataset=pd.read_csv(\"files/New_set2.csv\")\n",
    "dataset"
   ]
  },
  {
   "cell_type": "code",
   "execution_count": 69,
   "id": "138b494e",
   "metadata": {},
   "outputs": [
    {
     "data": {
      "image/png": "[encoded data removed]",
      "text/plain": [
       "<Figure size 640x480 with 1 Axes>"
      ]
     },
     "metadata": {},
     "output_type": "display_data"
    }
   ],
   "source": [
    "import matplotlib.pyplot as plt\n",
    "plt.hist(dataset['Age'],bins=12)\n",
    "plt.show()"
   ]
  },
  {
   "cell_type": "markdown",
   "id": "98165635",
   "metadata": {},
   "source": [
    "so here the age above 45 are considered as the outliers in the given dataframe."
   ]
  },
  {
   "cell_type": "code",
   "execution_count": 70,
   "id": "314aa095",
   "metadata": {},
   "outputs": [
    {
     "data": {
      "text/plain": [
       "24.2"
      ]
     },
     "execution_count": 70,
     "metadata": {},
     "output_type": "execute_result"
    }
   ],
   "source": [
    "# we can find both upper and lower outliers.Here i used 0.05 for representing 5%\n",
    "lowerlimit=dataset['Age'].quantile(0.05)\n",
    "lowerlimit"
   ]
  },
  {
   "cell_type": "code",
   "execution_count": 71,
   "id": "4f751dfa",
   "metadata": {},
   "outputs": [
    {
     "data": {
      "text/plain": [
       "43.19999999999999"
      ]
     },
     "execution_count": 71,
     "metadata": {},
     "output_type": "execute_result"
    }
   ],
   "source": [
    "upperlimit=dataset['Age'].quantile(0.95)  # here i used 0.95 for representing 95%\n",
    "upperlimit"
   ]
  },
  {
   "cell_type": "markdown",
   "id": "2de87bab",
   "metadata": {},
   "source": [
    "so we can say that below 27 they are outliers.And above 43.199 are also outliers."
   ]
  },
  {
   "cell_type": "code",
   "execution_count": 72,
   "id": "aa7da370",
   "metadata": {},
   "outputs": [
    {
     "data": {
      "text/plain": [
       "4    48\n",
       "Name: Age, dtype: int64"
      ]
     },
     "execution_count": 72,
     "metadata": {},
     "output_type": "execute_result"
    }
   ],
   "source": [
    "dataset['Age'][dataset['Age']>upperlimit]"
   ]
  },
  {
   "cell_type": "code",
   "execution_count": 73,
   "id": "744b5757",
   "metadata": {},
   "outputs": [
    {
     "data": {
      "text/plain": [
       "2    20\n",
       "Name: Age, dtype: int64"
      ]
     },
     "execution_count": 73,
     "metadata": {},
     "output_type": "execute_result"
    }
   ],
   "source": [
    "dataset['Age'][dataset['Age']<lowerlimit]"
   ]
  },
  {
   "cell_type": "markdown",
   "id": "ef7f477c",
   "metadata": {},
   "source": [
    "there is only one outlier which is 48 , there is no outlier below the lowerlimit.we want to remove the 48."
   ]
  },
  {
   "cell_type": "code",
   "execution_count": 77,
   "id": "9488b7c1",
   "metadata": {},
   "outputs": [
    {
     "name": "stdout",
     "output_type": "stream",
     "text": [
      "         City  Age  Salary Eligible for Bonus\n",
      "0      Mumbai   27   51000                Yes\n",
      "1      Mumbai   30   52000                 No\n",
      "3     Newyork   29   66000                 No\n",
      "5   Singapore   33   69000                 No\n",
      "6     Newyork   40   79000                Yes\n",
      "7      Mumbai   38   80000                Yes\n",
      "8   Singapore   35   38000                 No\n",
      "9       Tokyo   34   56000                 No\n",
      "10  Singapore   35   72000                Yes\n",
      "11     Mumbai   31   65000                Yes\n",
      "12  Singapore   37   49000                 No\n"
     ]
    }
   ],
   "source": [
    "newdataset=dataset[(dataset['Age']>lowerlimit) &  (dataset['Age']<upperlimit)]\n",
    "print(newdataset)"
   ]
  },
  {
   "cell_type": "markdown",
   "id": "b92bdb2c",
   "metadata": {},
   "source": [
    "In this dataframe does not contains the outliers."
   ]
  },
  {
   "cell_type": "markdown",
   "id": "a51a943a",
   "metadata": {},
   "source": [
    "# converting the Ordinal data into numerical value."
   ]
  },
  {
   "cell_type": "code",
   "execution_count": 23,
   "id": "1e0b7e0b",
   "metadata": {},
   "outputs": [
    {
     "data": {
      "text/html": [
       "<div>\n",
       "<style scoped>\n",
       "    .dataframe tbody tr th:only-of-type {\n",
       "        vertical-align: middle;\n",
       "    }\n",
       "\n",
       "    .dataframe tbody tr th {\n",
       "        vertical-align: top;\n",
       "    }\n",
       "\n",
       "    .dataframe thead th {\n",
       "        text-align: right;\n",
       "    }\n",
       "</style>\n",
       "<table border=\"1\" class=\"dataframe\">\n",
       "  <thead>\n",
       "    <tr style=\"text-align: right;\">\n",
       "      <th></th>\n",
       "      <th>Name</th>\n",
       "      <th>Age</th>\n",
       "      <th>Grade</th>\n",
       "      <th>Role</th>\n",
       "      <th>Rating</th>\n",
       "      <th>Country</th>\n",
       "    </tr>\n",
       "  </thead>\n",
       "  <tbody>\n",
       "    <tr>\n",
       "      <th>0</th>\n",
       "      <td>Virat</td>\n",
       "      <td>31</td>\n",
       "      <td>Best</td>\n",
       "      <td>Batsman</td>\n",
       "      <td>871</td>\n",
       "      <td>IND</td>\n",
       "    </tr>\n",
       "    <tr>\n",
       "      <th>1</th>\n",
       "      <td>Rohit</td>\n",
       "      <td>33</td>\n",
       "      <td>Better</td>\n",
       "      <td>Batsman</td>\n",
       "      <td>855</td>\n",
       "      <td>IND</td>\n",
       "    </tr>\n",
       "    <tr>\n",
       "      <th>2</th>\n",
       "      <td>Babar</td>\n",
       "      <td>25</td>\n",
       "      <td>Good</td>\n",
       "      <td>Batsman</td>\n",
       "      <td>829</td>\n",
       "      <td>PAK</td>\n",
       "    </tr>\n",
       "    <tr>\n",
       "      <th>3</th>\n",
       "      <td>Boult</td>\n",
       "      <td>31</td>\n",
       "      <td>Best</td>\n",
       "      <td>Bowler</td>\n",
       "      <td>722</td>\n",
       "      <td>NZ</td>\n",
       "    </tr>\n",
       "    <tr>\n",
       "      <th>4</th>\n",
       "      <td>Bumrah</td>\n",
       "      <td>26</td>\n",
       "      <td>Better</td>\n",
       "      <td>Bowler</td>\n",
       "      <td>719</td>\n",
       "      <td>IND</td>\n",
       "    </tr>\n",
       "    <tr>\n",
       "      <th>5</th>\n",
       "      <td>Mujeeb</td>\n",
       "      <td>19</td>\n",
       "      <td>Good</td>\n",
       "      <td>Bowler</td>\n",
       "      <td>701</td>\n",
       "      <td>AFG</td>\n",
       "    </tr>\n",
       "    <tr>\n",
       "      <th>6</th>\n",
       "      <td>Nabi</td>\n",
       "      <td>35</td>\n",
       "      <td>Best</td>\n",
       "      <td>All-rounder</td>\n",
       "      <td>301</td>\n",
       "      <td>AFG</td>\n",
       "    </tr>\n",
       "    <tr>\n",
       "      <th>7</th>\n",
       "      <td>Stokes</td>\n",
       "      <td>29</td>\n",
       "      <td>Better</td>\n",
       "      <td>All-rounder</td>\n",
       "      <td>285</td>\n",
       "      <td>ENG</td>\n",
       "    </tr>\n",
       "  </tbody>\n",
       "</table>\n",
       "</div>"
      ],
      "text/plain": [
       "     Name  Age   Grade         Role  Rating Country\n",
       "0   Virat   31    Best      Batsman     871     IND\n",
       "1   Rohit   33  Better      Batsman     855     IND\n",
       "2   Babar   25    Good      Batsman     829     PAK\n",
       "3   Boult   31    Best       Bowler     722      NZ\n",
       "4  Bumrah   26  Better       Bowler     719     IND\n",
       "5  Mujeeb   19    Good       Bowler     701     AFG\n",
       "6    Nabi   35    Best  All-rounder     301     AFG\n",
       "7  Stokes   29  Better  All-rounder     285     ENG"
      ]
     },
     "execution_count": 23,
     "metadata": {},
     "output_type": "execute_result"
    }
   ],
   "source": [
    "import pandas as pd\n",
    "data=pd.read_csv(\"files/cricketers.csv\")\n",
    "data"
   ]
  },
  {
   "cell_type": "code",
   "execution_count": 80,
   "id": "68226294",
   "metadata": {},
   "outputs": [],
   "source": [
    "dictmap={\n",
    "    \"Best\":1,\n",
    "    \"Better\":2,\n",
    "    \"Good\":3\n",
    "}"
   ]
  },
  {
   "cell_type": "code",
   "execution_count": 81,
   "id": "7fa4f8af",
   "metadata": {},
   "outputs": [],
   "source": [
    "data['Numeric']=data['Grade'].map(dictmap)"
   ]
  },
  {
   "cell_type": "code",
   "execution_count": 82,
   "id": "f3d955f9",
   "metadata": {},
   "outputs": [
    {
     "data": {
      "text/html": [
       "<div>\n",
       "<style scoped>\n",
       "    .dataframe tbody tr th:only-of-type {\n",
       "        vertical-align: middle;\n",
       "    }\n",
       "\n",
       "    .dataframe tbody tr th {\n",
       "        vertical-align: top;\n",
       "    }\n",
       "\n",
       "    .dataframe thead th {\n",
       "        text-align: right;\n",
       "    }\n",
       "</style>\n",
       "<table border=\"1\" class=\"dataframe\">\n",
       "  <thead>\n",
       "    <tr style=\"text-align: right;\">\n",
       "      <th></th>\n",
       "      <th>Name</th>\n",
       "      <th>Age</th>\n",
       "      <th>Grade</th>\n",
       "      <th>Role</th>\n",
       "      <th>Rating</th>\n",
       "      <th>Country</th>\n",
       "      <th>Numeric</th>\n",
       "    </tr>\n",
       "  </thead>\n",
       "  <tbody>\n",
       "    <tr>\n",
       "      <th>0</th>\n",
       "      <td>Virat</td>\n",
       "      <td>31</td>\n",
       "      <td>Best</td>\n",
       "      <td>Batsman</td>\n",
       "      <td>871</td>\n",
       "      <td>IND</td>\n",
       "      <td>1</td>\n",
       "    </tr>\n",
       "    <tr>\n",
       "      <th>1</th>\n",
       "      <td>Rohit</td>\n",
       "      <td>33</td>\n",
       "      <td>Better</td>\n",
       "      <td>Batsman</td>\n",
       "      <td>855</td>\n",
       "      <td>IND</td>\n",
       "      <td>2</td>\n",
       "    </tr>\n",
       "    <tr>\n",
       "      <th>2</th>\n",
       "      <td>Babar</td>\n",
       "      <td>25</td>\n",
       "      <td>Good</td>\n",
       "      <td>Batsman</td>\n",
       "      <td>829</td>\n",
       "      <td>PAK</td>\n",
       "      <td>3</td>\n",
       "    </tr>\n",
       "    <tr>\n",
       "      <th>3</th>\n",
       "      <td>Boult</td>\n",
       "      <td>31</td>\n",
       "      <td>Best</td>\n",
       "      <td>Bowler</td>\n",
       "      <td>722</td>\n",
       "      <td>NZ</td>\n",
       "      <td>1</td>\n",
       "    </tr>\n",
       "    <tr>\n",
       "      <th>4</th>\n",
       "      <td>Bumrah</td>\n",
       "      <td>26</td>\n",
       "      <td>Better</td>\n",
       "      <td>Bowler</td>\n",
       "      <td>719</td>\n",
       "      <td>IND</td>\n",
       "      <td>2</td>\n",
       "    </tr>\n",
       "    <tr>\n",
       "      <th>5</th>\n",
       "      <td>Mujeeb</td>\n",
       "      <td>19</td>\n",
       "      <td>Good</td>\n",
       "      <td>Bowler</td>\n",
       "      <td>701</td>\n",
       "      <td>AFG</td>\n",
       "      <td>3</td>\n",
       "    </tr>\n",
       "    <tr>\n",
       "      <th>6</th>\n",
       "      <td>Nabi</td>\n",
       "      <td>35</td>\n",
       "      <td>Best</td>\n",
       "      <td>All-rounder</td>\n",
       "      <td>301</td>\n",
       "      <td>AFG</td>\n",
       "      <td>1</td>\n",
       "    </tr>\n",
       "    <tr>\n",
       "      <th>7</th>\n",
       "      <td>Stokes</td>\n",
       "      <td>29</td>\n",
       "      <td>Better</td>\n",
       "      <td>All-rounder</td>\n",
       "      <td>285</td>\n",
       "      <td>ENG</td>\n",
       "      <td>2</td>\n",
       "    </tr>\n",
       "  </tbody>\n",
       "</table>\n",
       "</div>"
      ],
      "text/plain": [
       "     Name  Age   Grade         Role  Rating Country  Numeric\n",
       "0   Virat   31    Best      Batsman     871     IND        1\n",
       "1   Rohit   33  Better      Batsman     855     IND        2\n",
       "2   Babar   25    Good      Batsman     829     PAK        3\n",
       "3   Boult   31    Best       Bowler     722      NZ        1\n",
       "4  Bumrah   26  Better       Bowler     719     IND        2\n",
       "5  Mujeeb   19    Good       Bowler     701     AFG        3\n",
       "6    Nabi   35    Best  All-rounder     301     AFG        1\n",
       "7  Stokes   29  Better  All-rounder     285     ENG        2"
      ]
     },
     "execution_count": 82,
     "metadata": {},
     "output_type": "execute_result"
    }
   ],
   "source": [
    "data"
   ]
  },
  {
   "cell_type": "markdown",
   "id": "dcde00dc",
   "metadata": {},
   "source": [
    "so we get the correponding grade values."
   ]
  },
  {
   "cell_type": "markdown",
   "id": "8b5aadaa",
   "metadata": {},
   "source": [
    "# Continuous variables into binning/Discritization/Quantization"
   ]
  },
  {
   "cell_type": "code",
   "execution_count": 24,
   "id": "c2ed5b2b",
   "metadata": {},
   "outputs": [
    {
     "name": "stdout",
     "output_type": "stream",
     "text": [
      "[19, 25, 30, 35]\n"
     ]
    },
    {
     "data": {
      "text/html": [
       "<div>\n",
       "<style scoped>\n",
       "    .dataframe tbody tr th:only-of-type {\n",
       "        vertical-align: middle;\n",
       "    }\n",
       "\n",
       "    .dataframe tbody tr th {\n",
       "        vertical-align: top;\n",
       "    }\n",
       "\n",
       "    .dataframe thead th {\n",
       "        text-align: right;\n",
       "    }\n",
       "</style>\n",
       "<table border=\"1\" class=\"dataframe\">\n",
       "  <thead>\n",
       "    <tr style=\"text-align: right;\">\n",
       "      <th></th>\n",
       "      <th>Name</th>\n",
       "      <th>Age</th>\n",
       "      <th>Grade</th>\n",
       "      <th>Role</th>\n",
       "      <th>Rating</th>\n",
       "      <th>Country</th>\n",
       "      <th>Exp_catogory</th>\n",
       "    </tr>\n",
       "  </thead>\n",
       "  <tbody>\n",
       "    <tr>\n",
       "      <th>0</th>\n",
       "      <td>Virat</td>\n",
       "      <td>31</td>\n",
       "      <td>Best</td>\n",
       "      <td>Batsman</td>\n",
       "      <td>871</td>\n",
       "      <td>IND</td>\n",
       "      <td>supersenior</td>\n",
       "    </tr>\n",
       "    <tr>\n",
       "      <th>1</th>\n",
       "      <td>Rohit</td>\n",
       "      <td>33</td>\n",
       "      <td>Better</td>\n",
       "      <td>Batsman</td>\n",
       "      <td>855</td>\n",
       "      <td>IND</td>\n",
       "      <td>supersenior</td>\n",
       "    </tr>\n",
       "    <tr>\n",
       "      <th>2</th>\n",
       "      <td>Babar</td>\n",
       "      <td>25</td>\n",
       "      <td>Good</td>\n",
       "      <td>Batsman</td>\n",
       "      <td>829</td>\n",
       "      <td>PAK</td>\n",
       "      <td>young</td>\n",
       "    </tr>\n",
       "    <tr>\n",
       "      <th>3</th>\n",
       "      <td>Boult</td>\n",
       "      <td>31</td>\n",
       "      <td>Best</td>\n",
       "      <td>Bowler</td>\n",
       "      <td>722</td>\n",
       "      <td>NZ</td>\n",
       "      <td>supersenior</td>\n",
       "    </tr>\n",
       "    <tr>\n",
       "      <th>4</th>\n",
       "      <td>Bumrah</td>\n",
       "      <td>26</td>\n",
       "      <td>Better</td>\n",
       "      <td>Bowler</td>\n",
       "      <td>719</td>\n",
       "      <td>IND</td>\n",
       "      <td>senior</td>\n",
       "    </tr>\n",
       "    <tr>\n",
       "      <th>5</th>\n",
       "      <td>Mujeeb</td>\n",
       "      <td>19</td>\n",
       "      <td>Good</td>\n",
       "      <td>Bowler</td>\n",
       "      <td>701</td>\n",
       "      <td>AFG</td>\n",
       "      <td>young</td>\n",
       "    </tr>\n",
       "    <tr>\n",
       "      <th>6</th>\n",
       "      <td>Nabi</td>\n",
       "      <td>35</td>\n",
       "      <td>Best</td>\n",
       "      <td>All-rounder</td>\n",
       "      <td>301</td>\n",
       "      <td>AFG</td>\n",
       "      <td>supersenior</td>\n",
       "    </tr>\n",
       "    <tr>\n",
       "      <th>7</th>\n",
       "      <td>Stokes</td>\n",
       "      <td>29</td>\n",
       "      <td>Better</td>\n",
       "      <td>All-rounder</td>\n",
       "      <td>285</td>\n",
       "      <td>ENG</td>\n",
       "      <td>senior</td>\n",
       "    </tr>\n",
       "  </tbody>\n",
       "</table>\n",
       "</div>"
      ],
      "text/plain": [
       "     Name  Age   Grade         Role  Rating Country Exp_catogory\n",
       "0   Virat   31    Best      Batsman     871     IND  supersenior\n",
       "1   Rohit   33  Better      Batsman     855     IND  supersenior\n",
       "2   Babar   25    Good      Batsman     829     PAK        young\n",
       "3   Boult   31    Best       Bowler     722      NZ  supersenior\n",
       "4  Bumrah   26  Better       Bowler     719     IND       senior\n",
       "5  Mujeeb   19    Good       Bowler     701     AFG        young\n",
       "6    Nabi   35    Best  All-rounder     301     AFG  supersenior\n",
       "7  Stokes   29  Better  All-rounder     285     ENG       senior"
      ]
     },
     "execution_count": 24,
     "metadata": {},
     "output_type": "execute_result"
    }
   ],
   "source": [
    "def binningFunction(col,cut_points,labels=None):\n",
    "    min_val=col.min()\n",
    "    max_val=col.max()\n",
    "    break_points=[min_val]+cut_points+[max_val]\n",
    "    print(break_points)\n",
    "    if not labels:\n",
    "        labels=range(len(cut_points)+1)\n",
    "    col_bin=pd.cut(col,bins=break_points,labels=labels,include_lowest=True)\n",
    "    return col_bin\n",
    "\n",
    "cut_points=[25,30]\n",
    "labels=[\"young\",\"senior\",\"supersenior\"]\n",
    "data[\"Exp_catogory\"]=binningFunction(data['Age'],cut_points,labels)\n",
    "data"
   ]
  },
  {
   "cell_type": "code",
   "execution_count": 64,
   "id": "36456b64",
   "metadata": {},
   "outputs": [],
   "source": [
    "X = np.array([[ -3., 5., 15 ],\n",
    "              [  0., 6., 14 ],\n",
    "              [  6., 3., 11 ]])\n",
    "est=preprocessing.KBinsDiscretizer(n_bins=[3,2,2],encode='ordinal').fit(X)"
   ]
  },
  {
   "cell_type": "code",
   "execution_count": 65,
   "id": "dfef4e27",
   "metadata": {},
   "outputs": [
    {
     "data": {
      "text/plain": [
       "array([[0., 1., 1.],\n",
       "       [1., 1., 1.],\n",
       "       [2., 0., 0.]])"
      ]
     },
     "execution_count": 65,
     "metadata": {},
     "output_type": "execute_result"
    }
   ],
   "source": [
    "est.transform(X)"
   ]
  },
  {
   "cell_type": "code",
   "execution_count": 91,
   "id": "8729f36d",
   "metadata": {},
   "outputs": [
    {
     "data": {
      "text/html": [
       "<div>\n",
       "<style scoped>\n",
       "    .dataframe tbody tr th:only-of-type {\n",
       "        vertical-align: middle;\n",
       "    }\n",
       "\n",
       "    .dataframe tbody tr th {\n",
       "        vertical-align: top;\n",
       "    }\n",
       "\n",
       "    .dataframe thead th {\n",
       "        text-align: right;\n",
       "    }\n",
       "</style>\n",
       "<table border=\"1\" class=\"dataframe\">\n",
       "  <thead>\n",
       "    <tr style=\"text-align: right;\">\n",
       "      <th></th>\n",
       "      <th>Name</th>\n",
       "      <th>Age</th>\n",
       "      <th>Grade</th>\n",
       "      <th>Role</th>\n",
       "      <th>Rating</th>\n",
       "      <th>Country</th>\n",
       "      <th>Numeric</th>\n",
       "      <th>Exp_catogory</th>\n",
       "    </tr>\n",
       "  </thead>\n",
       "  <tbody>\n",
       "    <tr>\n",
       "      <th>0</th>\n",
       "      <td>Virat</td>\n",
       "      <td>31</td>\n",
       "      <td>Best</td>\n",
       "      <td>Batsman</td>\n",
       "      <td>871</td>\n",
       "      <td>IND</td>\n",
       "      <td>1</td>\n",
       "      <td>supersenior</td>\n",
       "    </tr>\n",
       "    <tr>\n",
       "      <th>1</th>\n",
       "      <td>Rohit</td>\n",
       "      <td>33</td>\n",
       "      <td>Better</td>\n",
       "      <td>Batsman</td>\n",
       "      <td>855</td>\n",
       "      <td>IND</td>\n",
       "      <td>2</td>\n",
       "      <td>supersenior</td>\n",
       "    </tr>\n",
       "    <tr>\n",
       "      <th>2</th>\n",
       "      <td>Babar</td>\n",
       "      <td>25</td>\n",
       "      <td>Good</td>\n",
       "      <td>Batsman</td>\n",
       "      <td>829</td>\n",
       "      <td>PAK</td>\n",
       "      <td>3</td>\n",
       "      <td>young</td>\n",
       "    </tr>\n",
       "    <tr>\n",
       "      <th>3</th>\n",
       "      <td>Boult</td>\n",
       "      <td>31</td>\n",
       "      <td>Best</td>\n",
       "      <td>Bowler</td>\n",
       "      <td>722</td>\n",
       "      <td>NZ</td>\n",
       "      <td>1</td>\n",
       "      <td>supersenior</td>\n",
       "    </tr>\n",
       "    <tr>\n",
       "      <th>4</th>\n",
       "      <td>Bumrah</td>\n",
       "      <td>26</td>\n",
       "      <td>Better</td>\n",
       "      <td>Bowler</td>\n",
       "      <td>719</td>\n",
       "      <td>IND</td>\n",
       "      <td>2</td>\n",
       "      <td>senior</td>\n",
       "    </tr>\n",
       "    <tr>\n",
       "      <th>5</th>\n",
       "      <td>Mujeeb</td>\n",
       "      <td>19</td>\n",
       "      <td>Good</td>\n",
       "      <td>Bowler</td>\n",
       "      <td>701</td>\n",
       "      <td>AFG</td>\n",
       "      <td>3</td>\n",
       "      <td>young</td>\n",
       "    </tr>\n",
       "    <tr>\n",
       "      <th>6</th>\n",
       "      <td>Nabi</td>\n",
       "      <td>35</td>\n",
       "      <td>Best</td>\n",
       "      <td>All-rounder</td>\n",
       "      <td>301</td>\n",
       "      <td>AFG</td>\n",
       "      <td>1</td>\n",
       "      <td>supersenior</td>\n",
       "    </tr>\n",
       "    <tr>\n",
       "      <th>7</th>\n",
       "      <td>Stokes</td>\n",
       "      <td>29</td>\n",
       "      <td>Better</td>\n",
       "      <td>All-rounder</td>\n",
       "      <td>285</td>\n",
       "      <td>ENG</td>\n",
       "      <td>2</td>\n",
       "      <td>senior</td>\n",
       "    </tr>\n",
       "  </tbody>\n",
       "</table>\n",
       "</div>"
      ],
      "text/plain": [
       "     Name  Age   Grade         Role  Rating Country  Numeric Exp_catogory\n",
       "0   Virat   31    Best      Batsman     871     IND        1  supersenior\n",
       "1   Rohit   33  Better      Batsman     855     IND        2  supersenior\n",
       "2   Babar   25    Good      Batsman     829     PAK        3        young\n",
       "3   Boult   31    Best       Bowler     722      NZ        1  supersenior\n",
       "4  Bumrah   26  Better       Bowler     719     IND        2       senior\n",
       "5  Mujeeb   19    Good       Bowler     701     AFG        3        young\n",
       "6    Nabi   35    Best  All-rounder     301     AFG        1  supersenior\n",
       "7  Stokes   29  Better  All-rounder     285     ENG        2       senior"
      ]
     },
     "execution_count": 91,
     "metadata": {},
     "output_type": "execute_result"
    }
   ],
   "source": [
    "data"
   ]
  },
  {
   "cell_type": "markdown",
   "id": "89788684",
   "metadata": {},
   "source": [
    "# removing duplicates"
   ]
  },
  {
   "cell_type": "code",
   "execution_count": 93,
   "id": "e6df6094",
   "metadata": {},
   "outputs": [
    {
     "data": {
      "text/html": [
       "<div>\n",
       "<style scoped>\n",
       "    .dataframe tbody tr th:only-of-type {\n",
       "        vertical-align: middle;\n",
       "    }\n",
       "\n",
       "    .dataframe tbody tr th {\n",
       "        vertical-align: top;\n",
       "    }\n",
       "\n",
       "    .dataframe thead th {\n",
       "        text-align: right;\n",
       "    }\n",
       "</style>\n",
       "<table border=\"1\" class=\"dataframe\">\n",
       "  <thead>\n",
       "    <tr style=\"text-align: right;\">\n",
       "      <th></th>\n",
       "      <th>Company</th>\n",
       "      <th>fuel-type</th>\n",
       "      <th>num-of-doors</th>\n",
       "      <th>body-style</th>\n",
       "      <th>num-of-cylinderes</th>\n",
       "    </tr>\n",
       "  </thead>\n",
       "  <tbody>\n",
       "    <tr>\n",
       "      <th>0</th>\n",
       "      <td>audi</td>\n",
       "      <td>gas</td>\n",
       "      <td>2</td>\n",
       "      <td>sedan</td>\n",
       "      <td>five</td>\n",
       "    </tr>\n",
       "    <tr>\n",
       "      <th>1</th>\n",
       "      <td>audi</td>\n",
       "      <td>gas</td>\n",
       "      <td>4</td>\n",
       "      <td>wagon</td>\n",
       "      <td>five</td>\n",
       "    </tr>\n",
       "    <tr>\n",
       "      <th>2</th>\n",
       "      <td>bmw</td>\n",
       "      <td>gas</td>\n",
       "      <td>2</td>\n",
       "      <td>sedan</td>\n",
       "      <td>four</td>\n",
       "    </tr>\n",
       "    <tr>\n",
       "      <th>3</th>\n",
       "      <td>bmw</td>\n",
       "      <td>gas</td>\n",
       "      <td>2</td>\n",
       "      <td>sedan</td>\n",
       "      <td>four</td>\n",
       "    </tr>\n",
       "    <tr>\n",
       "      <th>4</th>\n",
       "      <td>bmw</td>\n",
       "      <td>gas</td>\n",
       "      <td>2</td>\n",
       "      <td>sedan</td>\n",
       "      <td>six</td>\n",
       "    </tr>\n",
       "    <tr>\n",
       "      <th>5</th>\n",
       "      <td>mercedes-benz</td>\n",
       "      <td>diesel</td>\n",
       "      <td>4</td>\n",
       "      <td>sedan</td>\n",
       "      <td>five</td>\n",
       "    </tr>\n",
       "    <tr>\n",
       "      <th>6</th>\n",
       "      <td>mercedes-benz</td>\n",
       "      <td>diesel</td>\n",
       "      <td>4</td>\n",
       "      <td>wagon</td>\n",
       "      <td>five</td>\n",
       "    </tr>\n",
       "  </tbody>\n",
       "</table>\n",
       "</div>"
      ],
      "text/plain": [
       "         Company fuel-type  num-of-doors body-style num-of-cylinderes\n",
       "0           audi       gas             2      sedan              five\n",
       "1           audi       gas             4      wagon              five\n",
       "2            bmw       gas             2      sedan              four\n",
       "3            bmw       gas             2      sedan              four\n",
       "4            bmw       gas             2      sedan               six\n",
       "5  mercedes-benz    diesel             4      sedan              five\n",
       "6  mercedes-benz    diesel             4      wagon              five"
      ]
     },
     "execution_count": 93,
     "metadata": {},
     "output_type": "execute_result"
    }
   ],
   "source": [
    "data=pd.read_csv(\"files/vehicle.csv\")\n",
    "data"
   ]
  },
  {
   "cell_type": "code",
   "execution_count": 94,
   "id": "36a53941",
   "metadata": {},
   "outputs": [
    {
     "data": {
      "text/plain": [
       "0    False\n",
       "1    False\n",
       "2    False\n",
       "3     True\n",
       "4    False\n",
       "5    False\n",
       "6    False\n",
       "dtype: bool"
      ]
     },
     "execution_count": 94,
     "metadata": {},
     "output_type": "execute_result"
    }
   ],
   "source": [
    "data.duplicated()"
   ]
  },
  {
   "cell_type": "code",
   "execution_count": 96,
   "id": "d8cff789",
   "metadata": {},
   "outputs": [
    {
     "data": {
      "text/html": [
       "<div>\n",
       "<style scoped>\n",
       "    .dataframe tbody tr th:only-of-type {\n",
       "        vertical-align: middle;\n",
       "    }\n",
       "\n",
       "    .dataframe tbody tr th {\n",
       "        vertical-align: top;\n",
       "    }\n",
       "\n",
       "    .dataframe thead th {\n",
       "        text-align: right;\n",
       "    }\n",
       "</style>\n",
       "<table border=\"1\" class=\"dataframe\">\n",
       "  <thead>\n",
       "    <tr style=\"text-align: right;\">\n",
       "      <th></th>\n",
       "      <th>Company</th>\n",
       "      <th>fuel-type</th>\n",
       "      <th>num-of-doors</th>\n",
       "      <th>body-style</th>\n",
       "      <th>num-of-cylinderes</th>\n",
       "    </tr>\n",
       "  </thead>\n",
       "  <tbody>\n",
       "    <tr>\n",
       "      <th>0</th>\n",
       "      <td>audi</td>\n",
       "      <td>gas</td>\n",
       "      <td>2</td>\n",
       "      <td>sedan</td>\n",
       "      <td>five</td>\n",
       "    </tr>\n",
       "    <tr>\n",
       "      <th>1</th>\n",
       "      <td>audi</td>\n",
       "      <td>gas</td>\n",
       "      <td>4</td>\n",
       "      <td>wagon</td>\n",
       "      <td>five</td>\n",
       "    </tr>\n",
       "    <tr>\n",
       "      <th>2</th>\n",
       "      <td>bmw</td>\n",
       "      <td>gas</td>\n",
       "      <td>2</td>\n",
       "      <td>sedan</td>\n",
       "      <td>four</td>\n",
       "    </tr>\n",
       "    <tr>\n",
       "      <th>4</th>\n",
       "      <td>bmw</td>\n",
       "      <td>gas</td>\n",
       "      <td>2</td>\n",
       "      <td>sedan</td>\n",
       "      <td>six</td>\n",
       "    </tr>\n",
       "    <tr>\n",
       "      <th>5</th>\n",
       "      <td>mercedes-benz</td>\n",
       "      <td>diesel</td>\n",
       "      <td>4</td>\n",
       "      <td>sedan</td>\n",
       "      <td>five</td>\n",
       "    </tr>\n",
       "    <tr>\n",
       "      <th>6</th>\n",
       "      <td>mercedes-benz</td>\n",
       "      <td>diesel</td>\n",
       "      <td>4</td>\n",
       "      <td>wagon</td>\n",
       "      <td>five</td>\n",
       "    </tr>\n",
       "  </tbody>\n",
       "</table>\n",
       "</div>"
      ],
      "text/plain": [
       "         Company fuel-type  num-of-doors body-style num-of-cylinderes\n",
       "0           audi       gas             2      sedan              five\n",
       "1           audi       gas             4      wagon              five\n",
       "2            bmw       gas             2      sedan              four\n",
       "4            bmw       gas             2      sedan               six\n",
       "5  mercedes-benz    diesel             4      sedan              five\n",
       "6  mercedes-benz    diesel             4      wagon              five"
      ]
     },
     "execution_count": 96,
     "metadata": {},
     "output_type": "execute_result"
    }
   ],
   "source": [
    "new=data.drop_duplicates()\n",
    "new"
   ]
  },
  {
   "cell_type": "code",
   "execution_count": 101,
   "id": "27af1965",
   "metadata": {},
   "outputs": [
    {
     "data": {
      "text/html": [
       "<div>\n",
       "<style scoped>\n",
       "    .dataframe tbody tr th:only-of-type {\n",
       "        vertical-align: middle;\n",
       "    }\n",
       "\n",
       "    .dataframe tbody tr th {\n",
       "        vertical-align: top;\n",
       "    }\n",
       "\n",
       "    .dataframe thead th {\n",
       "        text-align: right;\n",
       "    }\n",
       "</style>\n",
       "<table border=\"1\" class=\"dataframe\">\n",
       "  <thead>\n",
       "    <tr style=\"text-align: right;\">\n",
       "      <th></th>\n",
       "      <th>Company</th>\n",
       "      <th>fuel-type</th>\n",
       "      <th>num-of-doors</th>\n",
       "      <th>body-style</th>\n",
       "      <th>num-of-cylinderes</th>\n",
       "    </tr>\n",
       "  </thead>\n",
       "  <tbody>\n",
       "    <tr>\n",
       "      <th>0</th>\n",
       "      <td>audi</td>\n",
       "      <td>gas</td>\n",
       "      <td>2</td>\n",
       "      <td>sedan</td>\n",
       "      <td>five</td>\n",
       "    </tr>\n",
       "    <tr>\n",
       "      <th>2</th>\n",
       "      <td>bmw</td>\n",
       "      <td>gas</td>\n",
       "      <td>2</td>\n",
       "      <td>sedan</td>\n",
       "      <td>four</td>\n",
       "    </tr>\n",
       "    <tr>\n",
       "      <th>5</th>\n",
       "      <td>mercedes-benz</td>\n",
       "      <td>diesel</td>\n",
       "      <td>4</td>\n",
       "      <td>sedan</td>\n",
       "      <td>five</td>\n",
       "    </tr>\n",
       "  </tbody>\n",
       "</table>\n",
       "</div>"
      ],
      "text/plain": [
       "         Company fuel-type  num-of-doors body-style num-of-cylinderes\n",
       "0           audi       gas             2      sedan              five\n",
       "2            bmw       gas             2      sedan              four\n",
       "5  mercedes-benz    diesel             4      sedan              five"
      ]
     },
     "execution_count": 101,
     "metadata": {},
     "output_type": "execute_result"
    }
   ],
   "source": [
    "new=data.drop_duplicates(subset=['Company'])\n",
    "new"
   ]
  },
  {
   "cell_type": "markdown",
   "id": "479a97ac",
   "metadata": {},
   "source": [
    "# Standradization ,or mean removal and varience scaling."
   ]
  },
  {
   "cell_type": "code",
   "execution_count": 2,
   "id": "34a76592",
   "metadata": {},
   "outputs": [],
   "source": [
    "from sklearn import preprocessing\n",
    "import numpy as np\n",
    "X_train = np.array([[ 1., -1.,  2.],\n",
    "                   [ 2.,  0.,  0.],\n",
    "                    [ 0.,  1., -1.]])"
   ]
  },
  {
   "cell_type": "code",
   "execution_count": 5,
   "id": "d136faee",
   "metadata": {},
   "outputs": [
    {
     "name": "stdout",
     "output_type": "stream",
     "text": [
      "StandardScaler()\n"
     ]
    }
   ],
   "source": [
    "scaler=preprocessing.StandardScaler().fit(X_train)\n",
    "print(scaler)\n"
   ]
  },
  {
   "cell_type": "code",
   "execution_count": 9,
   "id": "13ba4648",
   "metadata": {},
   "outputs": [
    {
     "data": {
      "text/plain": [
       "array([1.        , 0.        , 0.33333333])"
      ]
     },
     "execution_count": 9,
     "metadata": {},
     "output_type": "execute_result"
    }
   ],
   "source": [
    "scaler.mean_"
   ]
  },
  {
   "cell_type": "code",
   "execution_count": 10,
   "id": "49b49d27",
   "metadata": {},
   "outputs": [
    {
     "data": {
      "text/plain": [
       "array([0.81649658, 0.81649658, 1.24721913])"
      ]
     },
     "execution_count": 10,
     "metadata": {},
     "output_type": "execute_result"
    }
   ],
   "source": [
    "scaler.scale_"
   ]
  },
  {
   "cell_type": "code",
   "execution_count": 12,
   "id": "f2755fc0",
   "metadata": {},
   "outputs": [
    {
     "name": "stdout",
     "output_type": "stream",
     "text": [
      "[[ 1. -1.  2.]\n",
      " [ 2.  0.  0.]\n",
      " [ 0.  1. -1.]]\n"
     ]
    }
   ],
   "source": [
    "X_scaled=scaler.transform(X_train)\n",
    "print(X_train)"
   ]
  },
  {
   "cell_type": "code",
   "execution_count": 14,
   "id": "6712197b",
   "metadata": {},
   "outputs": [
    {
     "data": {
      "text/plain": [
       "array([0., 0., 0.])"
      ]
     },
     "execution_count": 14,
     "metadata": {},
     "output_type": "execute_result"
    }
   ],
   "source": [
    "X_scaled.mean(axis=0)\n"
   ]
  },
  {
   "cell_type": "code",
   "execution_count": 15,
   "id": "bc63b22c",
   "metadata": {},
   "outputs": [
    {
     "data": {
      "text/plain": [
       "array([1., 1., 1.])"
      ]
     },
     "execution_count": 15,
     "metadata": {},
     "output_type": "execute_result"
    }
   ],
   "source": [
    "X_scaled.std(axis=0)"
   ]
  },
  {
   "cell_type": "markdown",
   "id": "3b046841",
   "metadata": {},
   "source": [
    "# Scaling feature to a range"
   ]
  },
  {
   "cell_type": "code",
   "execution_count": 18,
   "id": "72feff48",
   "metadata": {},
   "outputs": [
    {
     "data": {
      "text/plain": [
       "array([[0.5       , 0.        , 1.        ],\n",
       "       [1.        , 0.5       , 0.33333333],\n",
       "       [0.        , 1.        , 0.        ]])"
      ]
     },
     "execution_count": 18,
     "metadata": {},
     "output_type": "execute_result"
    }
   ],
   "source": [
    "X_train = np.array([[ 1., -1.,  2.],\n",
    "                    [ 2.,  0.,  0.],\n",
    "                    [ 0.,  1., -1.]])\n",
    "minmax_scaler=preprocessing.MinMaxScaler()\n",
    "X_train_minmax=minmax_scaler.fit_transform(X_train)\n",
    "X_train_minmax"
   ]
  },
  {
   "cell_type": "markdown",
   "id": "167d233a",
   "metadata": {},
   "source": [
    "There is another scaling feature MaxabsScaler but it's values is ranges from -1 to 0. where as in minmaxscaler it is 0 and 1"
   ]
  },
  {
   "cell_type": "code",
   "execution_count": 21,
   "id": "5c8bd2d2",
   "metadata": {},
   "outputs": [
    {
     "data": {
      "text/plain": [
       "array([[ 0.5, -1. ,  1. ],\n",
       "       [ 1. ,  0. ,  0. ],\n",
       "       [ 0. ,  1. , -0.5]])"
      ]
     },
     "execution_count": 21,
     "metadata": {},
     "output_type": "execute_result"
    }
   ],
   "source": [
    "X_train = np.array([[ 1., -1.,  2.],\n",
    "                    [ 2.,  0.,  0.],\n",
    "                    [ 0.,  1., -1.]])\n",
    "maxabs_scaler=preprocessing.MaxAbsScaler()\n",
    "X_train_maxabs=maxabs_scaler.fit_transform(X_train)\n",
    "X_train_maxabs"
   ]
  },
  {
   "cell_type": "code",
   "execution_count": 27,
   "id": "a38483bc",
   "metadata": {},
   "outputs": [
    {
     "data": {
      "text/plain": [
       "array([[ 0. , -2. ,  0. ],\n",
       "       [-1. ,  0. ,  0.4],\n",
       "       [ 1. ,  0. , -1.6]])"
      ]
     },
     "execution_count": 27,
     "metadata": {},
     "output_type": "execute_result"
    }
   ],
   "source": [
    "from sklearn.preprocessing import RobustScaler\n",
    "X = [[ 1., -2.,  2.],\n",
    "     [ -2.,  1.,  3.],\n",
    "     [ 4.,  1., -2.]]\n",
    "transformer=RobustScaler().fit(X)\n",
    "transformer.transform(X)"
   ]
  },
  {
   "cell_type": "markdown",
   "id": "ca9b09ea",
   "metadata": {},
   "source": [
    "# centering kernel matrix"
   ]
  },
  {
   "cell_type": "code",
   "execution_count": 30,
   "id": "6015c5ac",
   "metadata": {},
   "outputs": [
    {
     "data": {
      "text/plain": [
       "array([[1, 2, 3],\n",
       "       [3, 2, 1],\n",
       "       [2, 1, 3]])"
      ]
     },
     "execution_count": 30,
     "metadata": {},
     "output_type": "execute_result"
    }
   ],
   "source": [
    "import numpy as np\n",
    "X=np.array([[1,2,3],\n",
    "           [3,2,1],\n",
    "           [2,1,3]])\n",
    "X"
   ]
  },
  {
   "cell_type": "code",
   "execution_count": 33,
   "id": "4343ddfb",
   "metadata": {},
   "outputs": [
    {
     "data": {
      "text/plain": [
       "array([2.        , 1.66666667, 2.33333333])"
      ]
     },
     "execution_count": 33,
     "metadata": {},
     "output_type": "execute_result"
    }
   ],
   "source": [
    "from sklearn import preprocessing\n",
    "scaler=preprocessing.KernelCenterer().fit(X)\n",
    "scaler.K_fit_rows_\n",
    "# this is the column mean"
   ]
  },
  {
   "cell_type": "code",
   "execution_count": 36,
   "id": "aba070ae",
   "metadata": {},
   "outputs": [
    {
     "data": {
      "text/plain": [
       "2.0"
      ]
     },
     "execution_count": 36,
     "metadata": {},
     "output_type": "execute_result"
    }
   ],
   "source": [
    "scaler.K_fit_all_\n",
    "#This is the total mean"
   ]
  },
  {
   "cell_type": "code",
   "execution_count": 38,
   "id": "cc411381",
   "metadata": {},
   "outputs": [
    {
     "data": {
      "text/plain": [
       "array([[-1.        ,  0.33333333,  0.66666667],\n",
       "       [ 1.        ,  0.33333333, -1.33333333],\n",
       "       [ 0.        , -0.66666667,  0.66666667]])"
      ]
     },
     "execution_count": 38,
     "metadata": {},
     "output_type": "execute_result"
    }
   ],
   "source": [
    "X_centered=scaler.transform(X)\n",
    "X_centered"
   ]
  },
  {
   "cell_type": "code",
   "execution_count": 39,
   "id": "4c18e228",
   "metadata": {},
   "outputs": [
    {
     "data": {
      "text/plain": [
       "-0.0"
      ]
     },
     "execution_count": 39,
     "metadata": {},
     "output_type": "execute_result"
    }
   ],
   "source": [
    "np.mean(X_centered).round(2)"
   ]
  },
  {
   "cell_type": "markdown",
   "id": "6cb61d37",
   "metadata": {},
   "source": [
    "# Non linear Transformation"
   ]
  },
  {
   "cell_type": "markdown",
   "id": "ee90e97f",
   "metadata": {},
   "source": [
    "#### Uniform Distribution"
   ]
  },
  {
   "cell_type": "code",
   "execution_count": 50,
   "id": "9ff727c8",
   "metadata": {},
   "outputs": [
    {
     "name": "stderr",
     "output_type": "stream",
     "text": [
      "C:\\ProgramData\\anaconda3\\lib\\site-packages\\sklearn\\preprocessing\\_data.py:2627: UserWarning: n_quantiles (1000) is greater than the total number of samples (112). n_quantiles is set to n_samples.\n",
      "  warnings.warn(\n"
     ]
    },
    {
     "data": {
      "text/plain": [
       "array([4.3, 5.1, 5.8, 6.5, 7.9])"
      ]
     },
     "execution_count": 50,
     "metadata": {},
     "output_type": "execute_result"
    }
   ],
   "source": [
    "from sklearn.datasets import load_iris\n",
    "import numpy as np\n",
    "from sklearn.model_selection import train_test_split\n",
    "X,y=load_iris(return_X_y=True)\n",
    "X_train,X_test,Y_train,Y_test=train_test_split(X,y,random_state=0)\n",
    "quantiletrans=preprocessing.QuantileTransformer(random_state=0)\n",
    "X_train_trans=quantiletrans.fit_transform(X_train)\n",
    "X_test_trans=quantiletrans.transform(X_test)\n",
    "np.percentile(X_train[:,0],[0, 25, 50, 75, 100])\n",
    "\n"
   ]
  },
  {
   "cell_type": "markdown",
   "id": "1254a93e",
   "metadata": {},
   "source": [
    "#### Gauasian distribution"
   ]
  },
  {
   "cell_type": "code",
   "execution_count": 55,
   "id": "eb083671",
   "metadata": {},
   "outputs": [
    {
     "data": {
      "text/plain": [
       "array([[ 0.49024349,  0.17881995, -0.1563781 ],\n",
       "       [-0.05102892,  0.58863195, -0.57612414],\n",
       "       [ 0.69420009, -0.84857822,  0.10051454]])"
      ]
     },
     "execution_count": 55,
     "metadata": {},
     "output_type": "execute_result"
    }
   ],
   "source": [
    "pt=preprocessing.PowerTransformer(method=\"box-cox\",standardize=False)\n",
    "X_lognormal=np.random.RandomState(616).lognormal(size=(3,3))\n",
    "pt.fit_transform(X_lognormal)"
   ]
  },
  {
   "cell_type": "markdown",
   "id": "4e102000",
   "metadata": {},
   "source": [
    "### Normalization"
   ]
  },
  {
   "cell_type": "code",
   "execution_count": null,
   "id": "b8b2bb8a",
   "metadata": {},
   "outputs": [],
   "source": [
    "# X = [[ 1., -1.,  2.],\n",
    "     [ 2.,  0.,  0.],\n",
    "     [ 0.,  1., -1.]]\n",
    "X_normalized=preprocessing.normalize(X,norm=\"l2\")\n",
    "X_normalized\n",
    "# here the l2 refers to euclidean normalization,involves scaling each row of the matrix such that the \n",
    "#sum of the squares of the row elements equals 1. \n",
    "#This is done by dividing each element of the row by the Euclidean norm of the row."
   ]
  },
  {
   "cell_type": "markdown",
   "id": "b918d010",
   "metadata": {},
   "source": [
    "### Feature binarization"
   ]
  },
  {
   "cell_type": "markdown",
   "id": "c41e6b10",
   "metadata": {},
   "source": [
    "Feature binarization is the process of thresholding numerical features to get boolean values."
   ]
  },
  {
   "cell_type": "code",
   "execution_count": 68,
   "id": "144164c5",
   "metadata": {},
   "outputs": [
    {
     "data": {
      "text/plain": [
       "array([[1., 0., 1.],\n",
       "       [1., 0., 0.],\n",
       "       [0., 1., 0.]])"
      ]
     },
     "execution_count": 68,
     "metadata": {},
     "output_type": "execute_result"
    }
   ],
   "source": [
    "X = [[ 1., -1.,  2.],\n",
    "     [ 2.,  0.,  0.],\n",
    "     [ 0.,  1., -1.]]\n",
    "binarizer=preprocessing.Binarizer().fit(X)\n",
    "binarizer.transform()"
   ]
  },
  {
   "cell_type": "markdown",
   "id": "005de91f",
   "metadata": {},
   "source": [
    "# Generating Polynomial features"
   ]
  },
  {
   "cell_type": "code",
   "execution_count": 15,
   "id": "57868b6a",
   "metadata": {},
   "outputs": [
    {
     "data": {
      "text/plain": [
       "array([[0, 1],\n",
       "       [2, 3],\n",
       "       [4, 5]])"
      ]
     },
     "execution_count": 15,
     "metadata": {},
     "output_type": "execute_result"
    }
   ],
   "source": [
    "import numpy as np\n",
    "from sklearn.preprocessing import PolynomialFeatures\n",
    "X=np.arange(6).reshape(3,2)\n",
    "X\n"
   ]
  },
  {
   "cell_type": "code",
   "execution_count": 16,
   "id": "f83604cf",
   "metadata": {},
   "outputs": [
    {
     "data": {
      "text/plain": [
       "array([[ 1.,  0.,  1.,  0.,  0.,  1.],\n",
       "       [ 1.,  2.,  3.,  4.,  6.,  9.],\n",
       "       [ 1.,  4.,  5., 16., 20., 25.]])"
      ]
     },
     "execution_count": 16,
     "metadata": {},
     "output_type": "execute_result"
    }
   ],
   "source": [
    "poly=PolynomialFeatures(2)\n",
    "poly.fit_transform(X)\n",
    "#Here i creating a polynomial feature of degree 2.and using that we transform it.\n"
   ]
  },
  {
   "cell_type": "markdown",
   "id": "cfb2005a",
   "metadata": {},
   "source": [
    "The output will get like \n",
    "column1:ones,column2:first column from X,column3:2nd column from X,column4:square of first column in X,\n",
    "column5:products of 2 columns in X,column6:square of 2nd column in X.\n",
    "This method is used to understand the nonlinear relationships between target variables."
   ]
  },
  {
   "cell_type": "markdown",
   "id": "4843ba9e",
   "metadata": {},
   "source": [
    "if we want only interactions then we can set interactio_only=True."
   ]
  },
  {
   "cell_type": "code",
   "execution_count": 19,
   "id": "18bec030",
   "metadata": {},
   "outputs": [
    {
     "data": {
      "text/plain": [
       "array([[0, 1, 2],\n",
       "       [3, 4, 5],\n",
       "       [6, 7, 8]])"
      ]
     },
     "execution_count": 19,
     "metadata": {},
     "output_type": "execute_result"
    }
   ],
   "source": [
    "X=np.arange(0,9).reshape(3,3)\n",
    "X"
   ]
  },
  {
   "cell_type": "code",
   "execution_count": 20,
   "id": "1064cd45",
   "metadata": {},
   "outputs": [
    {
     "data": {
      "text/plain": [
       "array([[  1.,   0.,   1.,   2.,   0.,   0.,   2.,   0.],\n",
       "       [  1.,   3.,   4.,   5.,  12.,  15.,  20.,  60.],\n",
       "       [  1.,   6.,   7.,   8.,  42.,  48.,  56., 336.]])"
      ]
     },
     "execution_count": 20,
     "metadata": {},
     "output_type": "execute_result"
    }
   ],
   "source": [
    "poly=PolynomialFeatures(degree=3,interaction_only=True)\n",
    "poly.fit_transform(X)"
   ]
  },
  {
   "cell_type": "code",
   "execution_count": null,
   "id": "638ef689",
   "metadata": {},
   "outputs": [],
   "source": []
  }
 ],
 "metadata": {
  "kernelspec": {
   "display_name": "Python 3 (ipykernel)",
   "language": "python",
   "name": "python3"
  },
  "language_info": {
   "codemirror_mode": {
    "name": "ipython",
    "version": 3
   },
   "file_extension": ".py",
   "mimetype": "text/x-python",
   "name": "python",
   "nbconvert_exporter": "python",
   "pygments_lexer": "ipython3",
   "version": "3.10.9"
  }
 },
 "nbformat": 4,
 "nbformat_minor": 5
}
